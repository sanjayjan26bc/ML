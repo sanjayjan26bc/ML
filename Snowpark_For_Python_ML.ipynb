{
 "metadata": {
  "kernelspec": {
   "display_name": "Streamlit Notebook",
   "name": "streamlit"
  }
 },
 "nbformat_minor": 5,
 "nbformat": 4,
 "cells": [
  {
   "cell_type": "markdown",
   "id": "5976cb51-5bad-44ad-88aa-f8ccbe937f00",
   "metadata": {
    "collapsed": false,
    "name": "cell8",
    "resultHeight": 480
   },
   "source": [
    "# Project Overview\n",
    "\n",
    "Perform data analysis and data preparation tasks to train a Linear Regression model to predict future ROI (Return On Investment) of variable ad spend budgets across multiple channels including search, video, social media, and email using Snowpark for Python, Snowpark ML and Streamlit. By the end of the session, you will have an interactive web application deployed visualizing the ROI of different allocated advertising spend budgets.\n",
    "\n",
    "***Prerequisite**: Before proceeding with this Notebook, you must first successfully run through Snowpark_For_Python_DE.ipynb.*\n",
    "\n",
    "## Machine Learning\n",
    "\n",
    "In this Notebook, we will focus on Machine Learning in Snowflake using Snowpark for Python.\n",
    "\n",
    "- Load features and target from Snowflake table into Snowpark DataFrame\n",
    "- Prepare features for model training\n",
    "- Train ML model using Snowpark ML in Snowflake and upload the model to Snowflake stage\n",
    "- Register ML model and use it for inference from Snowpark ML Model Registry\n",
    "\n",
    "For environment setup including loading data into Snowflake tables, and step-by-step instructions, please refer to the [QuickStart Guide](https://quickstarts.snowflake.com/guide/getting_started_with_dataengineering_ml_using_snowpark_python/index.html#0)."
   ]
  },
  {
   "cell_type": "markdown",
   "id": "a83ffa8f-faea-4e9e-8fbe-296193a3153d",
   "metadata": {
    "collapsed": false,
    "name": "cell9",
    "resultHeight": 60
   },
   "source": [
    "## Import Libraries"
   ]
  },
  {
   "cell_type": "code",
   "execution_count": null,
   "id": "3775908f-ca36-4846-8f38-5adca39217f2",
   "metadata": {
    "codeCollapsed": false,
    "collapsed": false,
    "language": "python",
    "name": "cell1",
    "resultHeight": 0
   },
   "outputs": [],
   "source": "# Snowpark for Python\nfrom snowflake.snowpark.context import get_active_session\nfrom snowflake.snowpark.version import VERSION\n\n# Snowpark ML\nfrom snowflake.ml.modeling.compose import ColumnTransformer\nfrom snowflake.ml.modeling.pipeline import Pipeline\nfrom snowflake.ml.modeling.preprocessing import PolynomialFeatures, StandardScaler\nfrom snowflake.ml.modeling.linear_model import LinearRegression\nfrom snowflake.ml.modeling.model_selection import GridSearchCV\nfrom snowflake.ml.registry import Registry\nfrom snowflake.ml.version import VERSION as ml_version\n\n# Misc\n#import pandas as pd\nimport json\nimport logging \nlogger = logging.getLogger(\"snowflake.snowpark.session\")\nlogger.setLevel(logging.ERROR)\n\nsession = get_active_session()\n# Add a query tag to the session. This helps with monitoring and troubleshooting.\nsession.query_tag = {\"origin\":\"sf_sit-is\", \n                     \"name\":\"aiml_notebooks_ad_spend_roi\", \n                     \"version\":{\"major\":1, \"minor\":0},\n                     \"attributes\":{\"is_quickstart\":1, \"source\":\"notebook\"}}\n"
  },
  {
   "cell_type": "markdown",
   "id": "4fb8edfb-6c71-40cc-bc23-9aa58b056e63",
   "metadata": {
    "collapsed": false,
    "name": "cell10",
    "resultHeight": 201
   },
   "source": [
    "## Features and Target\n",
    "\n",
    "At this point we are ready to perform the following actions to save features and target for model training.\n",
    "\n",
    "- Delete rows with missing values\n",
    "- Exclude columns we don't need for modeling\n",
    "- Save features into a Snowflake table called MARKETING_BUDGETS_FEATURES"
   ]
  },
  {
   "cell_type": "code",
   "execution_count": null,
   "id": "8d50cbf4-0c8d-4950-86cb-114990437ac9",
   "metadata": {
    "collapsed": false,
    "language": "python",
    "name": "cell2",
    "resultHeight": 345
   },
   "outputs": [],
   "source": [
    "# Load data\n",
    "snow_df_spend_and_revenue_per_month = session.table('spend_and_revenue_per_month')\n",
    "\n",
    "# Delete rows with missing values\n",
    "snow_df_spend_and_revenue_per_month = snow_df_spend_and_revenue_per_month.dropna()\n",
    "\n",
    "# Exclude columns we don't need for modeling\n",
    "snow_df_spend_and_revenue_per_month = snow_df_spend_and_revenue_per_month.drop(['YEAR','MONTH'])\n",
    "\n",
    "# Save features into a Snowflake table call MARKETING_BUDGETS_FEATURES\n",
    "snow_df_spend_and_revenue_per_month.write.mode('overwrite').save_as_table('MARKETING_BUDGETS_FEATURES')\n",
    "snow_df_spend_and_revenue_per_month.show()"
   ]
  },
  {
   "cell_type": "markdown",
   "id": "6069de28-2e2c-467d-a20f-df1f1a6bb35b",
   "metadata": {
    "collapsed": false,
    "name": "cell11",
    "resultHeight": 143
   },
   "source": [
    "## Model Training using Snowpark ML in Snowflake\n",
    "\n",
    "Learn more about [Snowpark ML](https://docs.snowflake.com/developer-guide/snowpark-ml/snowpark-ml-modeling).\n",
    "\n",
    "NOTE: For workloads that require a large amount of memory and compute resources, consider using [Snowpark-Optimized Warehouses](https://docs.snowflake.com/en/developer-guide/snowpark/python/python-snowpark-training-ml#snowpark-optimized-warehouses)."
   ]
  },
  {
   "cell_type": "code",
   "execution_count": null,
   "id": "c695373e-ac74-4b62-a1f1-08206cbd5c81",
   "metadata": {
    "codeCollapsed": false,
    "collapsed": false,
    "language": "python",
    "name": "cell3",
    "resultHeight": 60
   },
   "outputs": [],
   "source": [
    "CROSS_VALIDATION_FOLDS = 10\n",
    "POLYNOMIAL_FEATURES_DEGREE = 2\n",
    "\n",
    "# Create train and test Snowpark DataDrames\n",
    "train_df, test_df = session.table(\"MARKETING_BUDGETS_FEATURES\").random_split(weights=[0.8, 0.2], seed=0)\n",
    "\n",
    "# Preprocess the Numeric columns\n",
    "# We apply PolynomialFeatures and StandardScaler preprocessing steps to the numeric columns\n",
    "# NOTE: High degrees can cause overfitting.\n",
    "numeric_features = ['SEARCH_ENGINE','SOCIAL_MEDIA','VIDEO','EMAIL']\n",
    "numeric_transformer = Pipeline(steps=[('poly',PolynomialFeatures(degree = POLYNOMIAL_FEATURES_DEGREE)),('scaler', StandardScaler())])\n",
    "\n",
    "# Combine the preprocessed step together using the Column Transformer module\n",
    "preprocessor = ColumnTransformer(\n",
    "    transformers=[\n",
    "        ('num', numeric_transformer, numeric_features)])\n",
    "\n",
    "# The next step is the integrate the features we just preprocessed with our Machine Learning algorithm to enable us to build a model\n",
    "pipeline = Pipeline(steps=[('preprocessor', preprocessor),('classifier', LinearRegression())])\n",
    "parameteres = {}\n",
    "\n",
    "# Use GridSearch to find the best fitting model based on number_of_folds folds\n",
    "model = GridSearchCV(\n",
    "    estimator=pipeline,\n",
    "    param_grid=parameteres,\n",
    "    cv=CROSS_VALIDATION_FOLDS,\n",
    "    label_cols=[\"REVENUE\"],\n",
    "    output_cols=[\"PREDICTED_REVENUE\"],\n",
    "    verbose=2\n",
    ")\n",
    "\n",
    "# Fit and Score\n",
    "model.fit(train_df)\n",
    "train_r2_score = model.score(train_df)\n",
    "test_r2_score = model.score(test_df)\n",
    "\n",
    "# R2 score on train and test datasets\n",
    "print(f\"R2 score on Train : {train_r2_score}\")\n",
    "print(f\"R2 score on Test  : {test_r2_score}\")"
   ]
  },
  {
   "cell_type": "markdown",
   "id": "0dc15f0c-8c57-42b7-b57e-e67cf40a3997",
   "metadata": {
    "collapsed": false,
    "name": "cell12",
    "resultHeight": 143
   },
   "source": [
    "## Log Trained Model to Snowflake Model Registry\n",
    "\n",
    "The Model Registry allows to store models as objects in a schema in Snowflake. Note that by default the database and schema of the session is used.\n",
    "\n",
    "Learn more about [Model Registry](https://docs.snowflake.com/developer-guide/snowpark-ml/model-registry/overview)."
   ]
  },
  {
   "cell_type": "code",
   "execution_count": null,
   "id": "dc22a0e7-83ca-470c-8430-60b5f9e1e4c1",
   "metadata": {
    "collapsed": false,
    "language": "python",
    "name": "cell4",
    "resultHeight": 0
   },
   "outputs": [],
   "source": [
    "registry = Registry(session)\n",
    "MODEL_NAME = \"PREDICT_ROI\""
   ]
  },
  {
   "cell_type": "code",
   "execution_count": null,
   "id": "9e9e3849-61b9-4902-bac5-53c3f0131c40",
   "metadata": {
    "collapsed": false,
    "language": "python",
    "name": "cell13",
    "resultHeight": 0
   },
   "outputs": [],
   "source": "# NOTE: If you try to log the model with the same name, you may get \"ValueError: (0000) Model PREDICT_ROI version v1 already existed.\" error. \n# If that's the case, uncomment and run this cell.\n\n# registry.delete_model(MODEL_NAME)"
  },
  {
   "cell_type": "code",
   "execution_count": null,
   "id": "813b07ec-cf73-44dd-bbf0-261268f73d8e",
   "metadata": {
    "codeCollapsed": false,
    "collapsed": false,
    "language": "python",
    "name": "cell5",
    "resultHeight": 0
   },
   "outputs": [],
   "source": [
    "mv = registry.log_model(model,\n",
    "                        model_name=MODEL_NAME,\n",
    "                        version_name=\"v1\",\n",
    "                        metrics={\"R2_train\": train_r2_score, \"R2_test\":test_r2_score},\n",
    "                        comment='Model pipeline to predict revenue',\n",
    "                        options={\"relax_version\": False}\n",
    "                    )"
   ]
  },
  {
   "cell_type": "markdown",
   "id": "39a15039-8008-42ae-a639-982585087d2d",
   "metadata": {
    "collapsed": false,
    "name": "cell14",
    "resultHeight": 60
   },
   "source": [
    "## View Logged Model in Snowflake Model Registry"
   ]
  },
  {
   "cell_type": "code",
   "execution_count": null,
   "id": "bd9caea2-4825-4f86-bec7-80b3d9d07103",
   "metadata": {
    "collapsed": false,
    "language": "python",
    "name": "cell6",
    "resultHeight": 439
   },
   "outputs": [],
   "source": [
    "registry.show_models()"
   ]
  },
  {
   "cell_type": "markdown",
   "id": "0ff01596-ce5d-4efb-aeaf-656972f0b84a",
   "metadata": {
    "collapsed": false,
    "name": "cell15",
    "resultHeight": 169
   },
   "source": [
    "## Inference\n",
    "\n",
    "Once the model is logged we can use it for inference on new data.\n",
    "\n",
    "First we will create a Snowpark DataFrame with some sample data and then call the logged model to get new predictions. Note: we will handle negative values in our Streamlit application."
   ]
  },
  {
   "cell_type": "code",
   "execution_count": null,
   "id": "6f01b5c4-3f5b-4384-9051-e15ded939c48",
   "metadata": {
    "codeCollapsed": false,
    "collapsed": false,
    "language": "python",
    "name": "cell7",
    "resultHeight": 188
   },
   "outputs": [],
   "source": [
    "test_df = session.create_dataframe([[250000,250000,200000,450000],[500000,500000,500000,500000],[8500,9500,2000,500]], \n",
    "                                    schema=['SEARCH_ENGINE','SOCIAL_MEDIA','VIDEO','EMAIL'])\n",
    "mv.run(test_df, function_name='predict').show()"
   ]
  },
  {
   "cell_type": "markdown",
   "id": "de79c426-b69a-4d2b-9027-92103cd528e7",
   "metadata": {
    "name": "cell17",
    "collapsed": false,
    "resultHeight": 74
   },
   "source": "# Streamlit Application"
  },
  {
   "cell_type": "code",
   "id": "3972a7c6-8778-47e4-83dc-3957fc11fc8c",
   "metadata": {
    "language": "python",
    "name": "cell16",
    "collapsed": false,
    "resultHeight": 910
   },
   "outputs": [],
   "source": "import calendar \nimport altair as alt\nimport streamlit as st\nimport pandas as pd\nfrom snowflake.snowpark.functions import col\n\n# Function to load last six months' budget allocations and ROI \ndef load():\n  data = session.table(\"BUDGET_ALLOCATIONS_AND_ROI\").unpivot(\"Budget\", \"Channel\", [\"SearchEngine\", \"SocialMedia\", \"Video\", \"Email\"]).filter(col(\"MONTH\") != \"July\")\n  alloc, rois, last_alloc = data.drop(\"ROI\"), data.drop([\"CHANNEL\", \"BUDGET\"]).distinct(), data.filter(col(\"MONTH\") == \"June\")\n  return data.to_pandas(), alloc.to_pandas(), rois.to_pandas(), last_alloc.to_pandas()\n\ndef predict(budgets):\n  pred = session.sql(f\"SELECT ABS(PREDICT_ROI!predict({budgets[0]*1000},{budgets[1]*1000},{budgets[2]*1000},{budgets[3]*1000})['PREDICTED_REVENUE']::int) as PREDICTED_ROI\").to_pandas()\n  pred = pred[\"PREDICTED_ROI\"].values[0] / 100000\n  change = round(((pred / rois[\"ROI\"].iloc[-1]) - 1) * 100, 1)\n  return pred, change\n\ndef chart(chart_data):\n  base = alt.Chart(chart_data).encode(alt.X(\"MONTH\", sort=list(calendar.month_name), title=None))\n  bars = base.mark_bar().encode(y=alt.Y(\"BUDGET\", title=\"Budget\", scale=alt.Scale(domain=[0, 300])), color=alt.Color(\"CHANNEL\", legend=alt.Legend(orient=\"top\", title=\" \")), opacity=alt.condition(alt.datum.MONTH==\"July\", alt.value(1), alt.value(0.3)))\n  lines = base.mark_line(size=3).encode(y=alt.Y(\"ROI\", title=\"Revenue\", scale=alt.Scale(domain=[0, 25])), color=alt.value(\"#808495\"))\n  points = base.mark_point(strokeWidth=3).encode(y=alt.Y(\"ROI\"), stroke=alt.value(\"#808495\"), fill=alt.value(\"white\"), size=alt.condition(alt.datum.MONTH==\"July\", alt.value(300), alt.value(70)))\n  chart = alt.layer(bars, lines + points).resolve_scale(y=\"independent\").configure_view(strokeWidth=0).configure_axisY(domain=False).configure_axis(labelColor=\"#808495\", tickColor=\"#e6eaf1\", gridColor=\"#e6eaf1\", domainColor=\"#e6eaf1\", titleFontWeight=600, titlePadding=10, labelPadding=5, labelFontSize=14).configure_range(category=[\"#FFE08E\", \"#03C0F2\", \"#FFAAAB\", \"#995EFF\"])\n  st.altair_chart(chart, use_container_width=True)\n\n# Streamlit config\nst.header(\"SkiGear Co Ad Spend Optimizer\")\nst.subheader(\"Advertising budgets\")\n\n# Call functions to get Snowflake session and load data\nchannels = [\"Search engine\", \"Email\", \"Social media\", \"Video\"]\nchannels_upper = [channel.replace(\" \", \"\").upper() for channel in channels]\ndata, alloc, rois, last_alloc = load()\nlast_alloc = last_alloc.replace(channels_upper, channels)\n\n# Display advertising budget sliders and set their default values\ncol1, _, col2 = st.columns([4, 1, 4])\nbudgets = []\nfor alloc, col in zip(last_alloc.itertuples(), [col1, col1, col2, col2]):\n  budgets.append(col.slider(alloc.CHANNEL, 0, 100, alloc.BUDGET, 5))\n\n# Function to call \"predict_roi\" UDF that uses the pre-trained model for inference\n# Note: Both the model training and UDF registration is done in Snowpark_For_Python.ipynb\npred, change = predict(budgets)\nst.metric(\"\", f\"Predicted revenue ${pred:.2f} million\", f\"{change:.1f} % vs last month\")\njuly = pd.DataFrame({\"MONTH\": [\"July\"]*4, \"CHANNEL\": channels_upper, \"BUDGET\": budgets, \"ROI\": [pred]*4})\nchart(pd.concat([data, july]).reset_index(drop=True).replace(channels_upper, channels))\n\n# Setup the ability to save user-entered allocations and predicted value back to Snowflake \nif st.button(\"❄️ Save to Snowflake\"):\n  with st.spinner(\"Making snowflakes...\"):\n    df = pd.DataFrame({\"MONTH\": [\"July\"], \"SEARCHENGINE\": [budgets[0]], \"SOCIALMEDIA\": [budgets[1]], \"VIDEO\": [budgets[2]], \"EMAIL\": [budgets[3]], \"ROI\": [pred]})\n    session.write_pandas(df, \"BUDGET_ALLOCATIONS_AND_ROI\")  \n    st.success(\"✅ Successfully wrote budgets & prediction to your Snowflake account!\")\n    st.snow()",
   "execution_count": null
  }
 ]
}